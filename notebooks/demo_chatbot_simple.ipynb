{
 "cells": [
  {
   "cell_type": "code",
   "execution_count": 6,
   "id": "6353033c-a626-4d9b-a45b-320983e27abe",
   "metadata": {},
   "outputs": [],
   "source": [
    "from app import video_chatbot\n",
    "from IPython.display import Markdown, display\n",
    "from llama_index.core.response.notebook_utils import display_response\n",
    "from agent_utils import set_logging_handlers\n",
    "set_logging_handlers()"
   ]
  },
  {
   "cell_type": "markdown",
   "id": "c6e06315-d0ec-4be5-b923-e0517e996bcf",
   "metadata": {},
   "source": [
    "## Init Chatbot given a video url"
   ]
  },
  {
   "cell_type": "code",
   "execution_count": 7,
   "id": "b97ca106-470e-43e3-8dc5-6347fd52b2ab",
   "metadata": {},
   "outputs": [
    {
     "name": "stdout",
     "output_type": "stream",
     "text": [
      "Dowloading:  In 10 Minutes This Room Will Explode!\n",
      "Spliting video to scenes\n",
      "Convert video audio to transcipts\n",
      "initializing chatbot\n",
      "Loading index from vector store\n",
      "**********\n",
      "Trace: index_construction\n",
      "**********\n",
      "Creating index from vector store\n",
      "**********\n",
      "Trace: index_construction\n",
      "**********\n",
      "WARNING:llama_index.core.agent.react.formatter:ReActChatFormatter.from_context is deprecated, please use `from_defaults` instead.\n",
      "ReActChatFormatter.from_context is deprecated, please use `from_defaults` instead.\n"
     ]
    }
   ],
   "source": [
    "chatbot = video_chatbot(video_path_or_url=\"https://www.youtube.com/watch?v=Pv0iVoSZzN8\")"
   ]
  },
  {
   "cell_type": "markdown",
   "id": "1d990e22-c5a9-432d-83fe-159715783fc8",
   "metadata": {},
   "source": [
    "## Test chatbot with 3 quesions"
   ]
  },
  {
   "cell_type": "code",
   "execution_count": 3,
   "id": "576ffeb1-ec0d-422c-ae02-49b4a08d8587",
   "metadata": {},
   "outputs": [],
   "source": [
    "questions = [\n",
    "    \"what is the prize\",\n",
    "    \"Describe the winning scene\",\n",
    "    \"What happened in the first 3 minutes of the video?\"\n",
    "]"
   ]
  },
  {
   "cell_type": "code",
   "execution_count": 8,
   "id": "f92cbef7-dc92-4767-afd0-d4d37750b8ea",
   "metadata": {},
   "outputs": [],
   "source": [
    "%%capture\n",
    "responses = [chatbot.chat(question) for question in questions]"
   ]
  },
  {
   "cell_type": "code",
   "execution_count": 11,
   "id": "4359ab0f-c696-44b1-9424-7b233c90ff8d",
   "metadata": {},
   "outputs": [
    {
     "data": {
      "text/markdown": [
       "**Question 1:**\n",
       " `what is the prize`"
      ],
      "text/plain": [
       "<IPython.core.display.Markdown object>"
      ]
     },
     "metadata": {},
     "output_type": "display_data"
    },
    {
     "data": {
      "text/markdown": [
       "**`Final Response:`** The prize is $250,000."
      ],
      "text/plain": [
       "<IPython.core.display.Markdown object>"
      ]
     },
     "metadata": {},
     "output_type": "display_data"
    },
    {
     "name": "stdout",
     "output_type": "stream",
     "text": [
      "====================================================================================================\n"
     ]
    },
    {
     "data": {
      "text/markdown": [
       "**Question 2:**\n",
       " `Describe the winning scene`"
      ],
      "text/plain": [
       "<IPython.core.display.Markdown object>"
      ]
     },
     "metadata": {},
     "output_type": "display_data"
    },
    {
     "data": {
      "text/markdown": [
       "**`Final Response:`** The winning scene likely features a moment of celebration and triumph, where a contestant has successfully completed a challenging task or obstacle. The atmosphere would be filled with excitement, with bright lights illuminating the area and possibly confetti falling from above. The contestant, perhaps dressed in vibrant colors, would be raising their arms in victory, surrounded by cheering spectators and fellow competitors. A scoreboard might display their winning score, while a countdown timer would have reached zero, signaling the end of the competition. The overall mood would be one of exhilaration and achievement, highlighting the culmination of their efforts in the game."
      ],
      "text/plain": [
       "<IPython.core.display.Markdown object>"
      ]
     },
     "metadata": {},
     "output_type": "display_data"
    },
    {
     "name": "stdout",
     "output_type": "stream",
     "text": [
      "====================================================================================================\n"
     ]
    },
    {
     "data": {
      "text/markdown": [
       "**Question 3:**\n",
       " `What happened in the first 3 minutes of the video?`"
      ],
      "text/plain": [
       "<IPython.core.display.Markdown object>"
      ]
     },
     "metadata": {},
     "output_type": "display_data"
    },
    {
     "data": {
      "text/markdown": [
       "**`Final Response:`** In the first 3 minutes of the video, the scene introduces a high-energy event where contestants engage in various physical challenges. The atmosphere is lively and intense, with a digital countdown timer displayed, emphasizing the urgency of the competition. Contestants demonstrate their strength and endurance in tasks like hanging from gymnastic rings and navigating obstacles, while camera operators capture the action in a brightly lit environment, setting the stage for the challenges ahead."
      ],
      "text/plain": [
       "<IPython.core.display.Markdown object>"
      ]
     },
     "metadata": {},
     "output_type": "display_data"
    },
    {
     "name": "stdout",
     "output_type": "stream",
     "text": [
      "====================================================================================================\n"
     ]
    }
   ],
   "source": [
    "for idx, question in enumerate(questions):\n",
    "    display(Markdown(f\"**Question {idx+1}:**\\n `{question}`\"))\n",
    "    \n",
    "    display_response(responses[idx])\n",
    "\n",
    "    print(\"==\"*50)"
   ]
  },
  {
   "cell_type": "code",
   "execution_count": null,
   "id": "1d353a5d-7ba8-40f0-9f9d-e68be146de60",
   "metadata": {},
   "outputs": [],
   "source": []
  },
  {
   "cell_type": "code",
   "execution_count": null,
   "id": "dc566240-7dbd-4ccc-9d86-ca75df246c65",
   "metadata": {},
   "outputs": [],
   "source": []
  },
  {
   "cell_type": "code",
   "execution_count": null,
   "id": "b83ae93a-9e37-4100-8118-a0708e100639",
   "metadata": {},
   "outputs": [],
   "source": []
  },
  {
   "cell_type": "code",
   "execution_count": null,
   "id": "b17ecb31-c766-4e82-a532-4a497bcca9eb",
   "metadata": {},
   "outputs": [],
   "source": []
  }
 ],
 "metadata": {
  "kernelspec": {
   "display_name": "llm-py310",
   "language": "python",
   "name": "llm-py310"
  },
  "language_info": {
   "codemirror_mode": {
    "name": "ipython",
    "version": 3
   },
   "file_extension": ".py",
   "mimetype": "text/x-python",
   "name": "python",
   "nbconvert_exporter": "python",
   "pygments_lexer": "ipython3",
   "version": "3.10.14"
  }
 },
 "nbformat": 4,
 "nbformat_minor": 5
}
